{
 "cells": [
  {
   "cell_type": "markdown",
   "id": "cdc2c9c3",
   "metadata": {},
   "source": [
    "# Data Science Tools and Ecosystems"
   ]
  },
  {
   "cell_type": "markdown",
   "id": "5d4857f3",
   "metadata": {},
   "source": [
    "In this notebook, Data Science Tools and Ecosystems are summarized."
   ]
  },
  {
   "cell_type": "markdown",
   "id": "b8fc895c",
   "metadata": {},
   "source": [
    "**Objetives:**"
   ]
  },
  {
   "cell_type": "markdown",
   "id": "fb08052c",
   "metadata": {},
   "source": [
    "+ List some popular languages for Data Science\n",
    "+ List some of commonly used libraries used by Data Scientist\n",
    "+ List some Data Science tools"
   ]
  },
  {
   "cell_type": "markdown",
   "id": "2a9a8037",
   "metadata": {},
   "source": [
    "Some of the popular languages that Data Scientists use are: "
   ]
  },
  {
   "cell_type": "markdown",
   "id": "6fb7b2ed",
   "metadata": {},
   "source": [
    "1.Python \n",
    "2.R \n",
    "3.SQL \n",
    "4.Java \n",
    "5.JavaSCript \n",
    "6.Scala \n",
    "7.Julia"
   ]
  },
  {
   "cell_type": "markdown",
   "id": "a14ac83c",
   "metadata": {},
   "source": [
    "Some of commonly used libraries used by Data Scientist include:"
   ]
  },
  {
   "cell_type": "markdown",
   "id": "31f88709",
   "metadata": {},
   "source": [
    "1. Pandas\n",
    "2. Numpy\n",
    "3. Matplotlib\n",
    "4. ggplot2\n",
    "5. VEGAS"
   ]
  },
  {
   "cell_type": "markdown",
   "id": "a76acba3",
   "metadata": {},
   "source": [
    "|Data Science Tools|\n",
    "|------------------|\n",
    "|Jupyter Notebooks|\n",
    "|RStudio|\n",
    "|Apache Zeppelin|"
   ]
  },
  {
   "cell_type": "markdown",
   "id": "9040684a",
   "metadata": {},
   "source": [
    "### Below are a few examples of evaluating arithmetic expressions in Python"
   ]
  },
  {
   "cell_type": "code",
   "execution_count": 1,
   "id": "8fcdf504",
   "metadata": {},
   "outputs": [
    {
     "data": {
      "text/plain": [
       "17"
      ]
     },
     "execution_count": 1,
     "metadata": {},
     "output_type": "execute_result"
    }
   ],
   "source": [
    "#This is a simple arithmetic expression to multiply then add integers\n",
    "(3*4)+5"
   ]
  },
  {
   "cell_type": "code",
   "execution_count": 2,
   "id": "4ee7570c",
   "metadata": {},
   "outputs": [
    {
     "name": "stdout",
     "output_type": "stream",
     "text": [
      "3.3333333333333335\n"
     ]
    }
   ],
   "source": [
    "#This will convert 200 minutes to hours by dividing by 60\n",
    "minutes = 200\n",
    "hours = minutes/60\n",
    "print(hours)"
   ]
  },
  {
   "cell_type": "markdown",
   "id": "fdb801e0",
   "metadata": {},
   "source": [
    "## Author"
   ]
  },
  {
   "cell_type": "markdown",
   "id": "fb57adea",
   "metadata": {},
   "source": [
    "Rafael Martínez del Río-Hortega"
   ]
  },
  {
   "cell_type": "code",
   "execution_count": null,
   "id": "d1547a66",
   "metadata": {},
   "outputs": [],
   "source": []
  }
 ],
 "metadata": {
  "kernelspec": {
   "display_name": "Python 3 (ipykernel)",
   "language": "python",
   "name": "python3"
  },
  "language_info": {
   "codemirror_mode": {
    "name": "ipython",
    "version": 3
   },
   "file_extension": ".py",
   "mimetype": "text/x-python",
   "name": "python",
   "nbconvert_exporter": "python",
   "pygments_lexer": "ipython3",
   "version": "3.9.16"
  }
 },
 "nbformat": 4,
 "nbformat_minor": 5
}
